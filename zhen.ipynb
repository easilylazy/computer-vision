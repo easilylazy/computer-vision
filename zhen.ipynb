{
 "metadata": {
  "language_info": {
   "codemirror_mode": {
    "name": "ipython",
    "version": 3
   },
   "file_extension": ".py",
   "mimetype": "text/x-python",
   "name": "python",
   "nbconvert_exporter": "python",
   "pygments_lexer": "ipython3",
   "version": "3.8.8"
  },
  "orig_nbformat": 2,
  "kernelspec": {
   "name": "python388jvsc74a57bd0c39dd8454138eeaae7582c1b8b9112000612a2e483c721ee49090cb6d3cfebe8",
   "display_name": "Python 3.8.8 64-bit ('programx64': virtualenv)"
  }
 },
 "nbformat": 4,
 "nbformat_minor": 2,
 "cells": [
  {
   "cell_type": "code",
   "execution_count": null,
   "metadata": {},
   "outputs": [],
   "source": [
    "import cv2\n",
    "import numpy as np\n",
    " \n",
    "def  three_frame_differencing(videopath):\n",
    "    cap = cv2.VideoCapture(videopath)\n",
    "    width =int(cap.get(cv2.CAP_PROP_FRAME_WIDTH))\n",
    "    height =int(cap.get(cv2.CAP_PROP_FRAME_HEIGHT))\n",
    "    one_frame = np.zeros((height,width),dtype=np.uint8)\n",
    "    two_frame = np.zeros((height,width),dtype=np.uint8)\n",
    "    three_frame = np.zeros((height,width),dtype=np.uint8)\n",
    "    while cap.isOpened():\n",
    "        ret,frame = cap.read()\n",
    "        frame_gray =cv2.cvtColor(frame,cv2.COLOR_BGR2GRAY)\n",
    "        if not ret:\n",
    "            break\n",
    "        one_frame,two_frame,three_frame = two_frame,three_frame,frame_gray\n",
    "        abs1 = cv2.absdiff(one_frame,two_frame)#相减\n",
    "        _,thresh1 = cv2.threshold(abs1,40,255,cv2.THRESH_BINARY)#二值，大于40的为255，小于0\n",
    " \n",
    "        abs2 =cv2.absdiff(two_frame,three_frame)\n",
    "        _,thresh2 =cv2.threshold(abs2,40,255,cv2.THRESH_BINARY)\n",
    " \n",
    "        binary =cv2.bitwise_and(thresh1,thresh2)#与运算\n",
    "        kernel = cv2.getStructuringElement(cv2.MORPH_ELLIPSE,(5,5))\n",
    "        erode = cv2.erode(binary,kernel)#腐蚀\n",
    "        dilate =cv2.dilate(erode,kernel)#膨胀\n",
    "        dilate =cv2.dilate(dilate,kernel)#膨胀\n",
    " \n",
    "        contours,hei = cv2.findContours(dilate.copy(),mode=cv2.RETR_EXTERNAL,method=cv2.CHAIN_APPROX_SIMPLE)#寻找轮廓\n",
    "        for contour in contours:\n",
    "            if 100<cv2.contourArea(contour)<40000:\n",
    "                x,y,w,h =cv2.boundingRect(contour)#找方框\n",
    "                cv2.rectangle(frame,(x,y),(x+w,y+h),(0,0,255))\n",
    "        cv2.namedWindow(\"binary\",cv2.WINDOW_NORMAL)\n",
    "        cv2.namedWindow(\"dilate\",cv2.WINDOW_NORMAL)\n",
    "        cv2.namedWindow(\"frame\",cv2.WINDOW_NORMAL)\n",
    "        cv2.imshow(\"binary\",binary)\n",
    "        cv2.imshow(\"dilate\",dilate)\n",
    "        cv2.imshow(\"frame\",frame)\n",
    "        if cv2.waitKey(50)&0xFF==ord(\"q\"):\n",
    "            break\n",
    "    cap.release()\n",
    "    cv2.destroyAllWindows()\n",
    "if __name__ == '__main__':\n",
    "    three_frame_differencing(0)\n"
   ]
  },
  {
   "cell_type": "code",
   "execution_count": null,
   "metadata": {},
   "outputs": [],
   "source": [
    "three_frame_differencing('project_video.mp4')"
   ]
  },
  {
   "cell_type": "code",
   "execution_count": null,
   "metadata": {},
   "outputs": [],
   "source": []
  }
 ]
}