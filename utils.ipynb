{
 "metadata": {
  "language_info": {
   "codemirror_mode": {
    "name": "ipython",
    "version": 3
   },
   "file_extension": ".py",
   "mimetype": "text/x-python",
   "name": "python",
   "nbconvert_exporter": "python",
   "pygments_lexer": "ipython3",
   "version": "3.7.4"
  },
  "orig_nbformat": 2,
  "kernelspec": {
   "name": "python374jvsc74a57bd03f857618d8b6a3d270a8a45aea13fd0dc2a28a907e8d4ef70fe87ce2a92698f8",
   "display_name": "Python 3.7.4 64-bit"
  }
 },
 "nbformat": 4,
 "nbformat_minor": 2,
 "cells": [
  {
   "cell_type": "code",
   "execution_count": 1,
   "metadata": {},
   "outputs": [],
   "source": [
    "from sklearn.preprocessing import StandardScaler"
   ]
  },
  {
   "cell_type": "code",
   "execution_count": 3,
   "metadata": {},
   "outputs": [],
   "source": [
    "import numpy as np"
   ]
  },
  {
   "cell_type": "code",
   "execution_count": 4,
   "metadata": {},
   "outputs": [
    {
     "output_type": "stream",
     "name": "stdout",
     "text": [
      "[[1]\n [2]\n [3]\n [4]\n [5]\n [6]\n [7]\n [8]\n [9]]\n9\n[5.]\n[6.66666667]\n[2.5819889]\n标准化后的数据:\n"
     ]
    }
   ],
   "source": [
    "x = np.array(range(1, 10)).reshape(-1, 1)\n",
    "ss = StandardScaler()\n",
    "ss.fit(X=x)\n",
    "print(x)\n",
    "print(ss.n_samples_seen_)\n",
    "print(ss.mean_)\n",
    "print(ss.var_)\n",
    "print(ss.scale_)\n",
    "print('标准化后的数据:')\n",
    "y = ss.fit_transform(x)"
   ]
  },
  {
   "cell_type": "code",
   "execution_count": 7,
   "metadata": {},
   "outputs": [
    {
     "output_type": "execute_result",
     "data": {
      "text/plain": [
       "1"
      ]
     },
     "metadata": {},
     "execution_count": 7
    }
   ],
   "source": [
    "len(x[0])"
   ]
  },
  {
   "cell_type": "code",
   "execution_count": null,
   "metadata": {},
   "outputs": [],
   "source": [
    "from PIL import Image\n",
    "import os.path\n",
    "import glob\n",
    "def convertjpg(jpgfile,outdir,width=128,height=128):\n",
    "  img=Image.open(jpgfile)\n",
    "  try:\n",
    "    new_img=img.resize((width,height),Image.BILINEAR)  \n",
    "    new_img.save(os.path.join(outdir,os.path.basename(jpgfile)))\n",
    "  except Exception as e:\n",
    "    print(e)\n",
    "for jpgfile in glob.glob(\"E:\\\\img\\\\*.jpg\"):\n",
    "  convertjpg(jpgfile,\"E:\\\\lianhua\")"
   ]
  }
 ]
}